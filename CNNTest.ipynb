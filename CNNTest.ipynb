{
 "cells": [
  {
   "cell_type": "code",
   "execution_count": null,
   "metadata": {
    "collapsed": false
   },
   "outputs": [
    {
     "name": "stdout",
     "output_type": "stream",
     "text": [
      "Extracting /tmp/data/train-images-idx3-ubyte.gz\n",
      "Extracting /tmp/data/train-labels-idx1-ubyte.gz\n",
      "Extracting /tmp/data/t10k-images-idx3-ubyte.gz\n",
      "Extracting /tmp/data/t10k-labels-idx1-ubyte.gz\n",
      "Iter 1280, Minibatch Loss= 28492.738281, Training Accuracy= 0.31250\n"
     ]
    }
   ],
   "source": [
    "from __future__ import print_function\n",
    "\n",
    "import tensorflow as tf\n",
    "\n",
    "# Import MNIST data\n",
    "from tensorflow.examples.tutorials.mnist import input_data\n",
    "mnist = input_data.read_data_sets(\"/tmp/data/\", one_hot=True)\n",
    "\n",
    "# CNN Model\n",
    "\n",
    "# Input Data and Labels\n",
    "training_data = tf.placeholder(tf.float32, [None, 784])\n",
    "training_labels = tf.placeholder(tf.float32, [None, 10])\n",
    "keep_prob = tf.placeholder(tf.float32)\n",
    "\n",
    "# Defining Variables\n",
    "layer1 = tf.Variable(tf.random_normal([5,5,1,32]))\n",
    "bias1 = tf.Variable(tf.random_normal([32]))\n",
    "\n",
    "# 1st Convoluted Layer\n",
    "x = tf.reshape(training_data, shape = [-1, 28, 28, 1])\n",
    "x = tf.nn.conv2d(x, layer1, strides = [1,1,1,1], padding = 'SAME')\n",
    "x = tf.nn.bias_add(x, bias1)\n",
    "x = tf.nn.relu(x)\n",
    "\n",
    "#1st Pooling Layer\n",
    "x = tf.nn.max_pool(x, ksize = [1,2,2,1], strides = [1,2,2,1], padding = 'SAME')\n",
    "\n",
    "# Defining Variables\n",
    "layer2 = tf.Variable(tf.random_normal([5,5,32,64]))\n",
    "bias2 = tf.Variable(tf.random_normal([64]))\n",
    "\n",
    "# 2nd Convoluted Layer\n",
    "x = tf.nn.conv2d(x, layer2, strides =[1,1,1,1], padding = 'SAME')\n",
    "x = tf.nn.bias_add(x, bias2)\n",
    "x = tf.nn.relu(x)\n",
    "\n",
    "#2nd Pooling Layer\n",
    "x = tf.nn.max_pool(x, ksize = [1,2,2,1], strides = [1,2,2,1], padding = 'SAME')\n",
    "\n",
    "#Defining Variables\n",
    "layer3 = tf.Variable(tf.random_normal([7*7*64, 1024]))\n",
    "bias3 = tf.Variable(tf.random_normal([1024]))\n",
    "\n",
    "#Fully-Connected Layer\n",
    "x = tf.reshape(x, [-1, 7*7*64])\n",
    "x = tf.add(tf.matmul(x, layer3), bias3)\n",
    "x = tf.nn.relu(x)\n",
    "\n",
    "x = tf.nn.dropout(x, keep_prob)\n",
    "\n",
    "#Converting to class scores\n",
    "layer4 = tf.Variable(tf.random_normal([1024, 10]))\n",
    "bias4 = tf.Variable(tf.random_normal([10]))\n",
    "\n",
    "output =  tf.add(tf.matmul(x, layer4), bias4)\n",
    "\n",
    "\n",
    "# Calculating Loss Function\n",
    "cost = tf.reduce_mean(tf.nn.softmax_cross_entropy_with_logits(logits=output, labels=training_labels))\n",
    "optimizer = tf.train.AdamOptimizer(learning_rate=0.001).minimize(cost)\n",
    "\n",
    "correct_pred = tf.equal(tf.argmax(output, 1), tf.argmax(training_labels, 1))\n",
    "accuracy = tf.reduce_mean(tf.cast(correct_pred, tf.float32))\n",
    "\n",
    "init = tf.global_variables_initializer()\n",
    "\n",
    "with tf.Session() as sess:\n",
    "    sess.run(init)\n",
    "    step = 1\n",
    "    # Keep training until reach max iterations\n",
    "    while step * 128 < 200000:\n",
    "        batch_x, batch_y = mnist.train.next_batch(128)\n",
    "        # Run optimization op (backprop)\n",
    "        sess.run(optimizer, feed_dict={training_data: batch_x, training_labels: batch_y, keep_prob: 0.75\n",
    "                                       })\n",
    "        if step % 10 == 0:\n",
    "            # Calculate batch loss and accuracy\n",
    "            loss, acc = sess.run([cost, accuracy], feed_dict={training_data: batch_x,\n",
    "                                                            training_labels: batch_y, keep_prob: 1\n",
    "                                                              })\n",
    "            print(\"Iter \" + str(step*128) + \", Minibatch Loss= \" + \\\n",
    "                  \"{:.6f}\".format(loss) + \", Training Accuracy= \" + \\\n",
    "                  \"{:.5f}\".format(acc))\n",
    "        step += 1\n",
    "    \n",
    "    \n",
    "    \n",
    "    "
   ]
  },
  {
   "cell_type": "code",
   "execution_count": null,
   "metadata": {
    "collapsed": true
   },
   "outputs": [],
   "source": []
  }
 ],
 "metadata": {
  "anaconda-cloud": {},
  "kernelspec": {
   "display_name": "Python [conda root]",
   "language": "python",
   "name": "conda-root-py"
  },
  "language_info": {
   "codemirror_mode": {
    "name": "ipython",
    "version": 3
   },
   "file_extension": ".py",
   "mimetype": "text/x-python",
   "name": "python",
   "nbconvert_exporter": "python",
   "pygments_lexer": "ipython3",
   "version": "3.5.2"
  }
 },
 "nbformat": 4,
 "nbformat_minor": 1
}
